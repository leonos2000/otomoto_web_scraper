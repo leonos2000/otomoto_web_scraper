{
    "cells": [
        {
            "cell_type": "code",
            "execution_count": 1,
            "source": [
                "!pip install bs4\r\n",
                "!pip install html5lib\r\n",
                "!pip install requests\r\n",
                "!pip install psycopg2-binary\r\n",
                "!pip install geopy"
            ],
            "outputs": [
                {
                    "output_type": "stream",
                    "name": "stdout",
                    "text": [
                        "Requirement already satisfied: bs4 in c:\\users\\leonp\\appdata\\local\\programs\\python\\python39\\lib\\site-packages (0.0.1)\n",
                        "Requirement already satisfied: beautifulsoup4 in c:\\users\\leonp\\appdata\\local\\programs\\python\\python39\\lib\\site-packages (from bs4) (4.9.3)\n",
                        "Requirement already satisfied: soupsieve>1.2 in c:\\users\\leonp\\appdata\\local\\programs\\python\\python39\\lib\\site-packages (from beautifulsoup4->bs4) (2.2.1)\n"
                    ]
                },
                {
                    "output_type": "stream",
                    "name": "stderr",
                    "text": [
                        "WARNING: You are using pip version 21.1.3; however, version 21.2.4 is available.\n",
                        "You should consider upgrading via the 'c:\\users\\leonp\\appdata\\local\\programs\\python\\python39\\python.exe -m pip install --upgrade pip' command.\n"
                    ]
                },
                {
                    "output_type": "stream",
                    "name": "stdout",
                    "text": [
                        "Requirement already satisfied: html5lib in c:\\users\\leonp\\appdata\\local\\programs\\python\\python39\\lib\\site-packages (1.1)\n",
                        "Requirement already satisfied: webencodings in c:\\users\\leonp\\appdata\\local\\programs\\python\\python39\\lib\\site-packages (from html5lib) (0.5.1)\n",
                        "Requirement already satisfied: six>=1.9 in c:\\users\\leonp\\appdata\\local\\programs\\python\\python39\\lib\\site-packages (from html5lib) (1.15.0)\n"
                    ]
                },
                {
                    "output_type": "stream",
                    "name": "stderr",
                    "text": [
                        "WARNING: You are using pip version 21.1.3; however, version 21.2.4 is available.\n",
                        "You should consider upgrading via the 'c:\\users\\leonp\\appdata\\local\\programs\\python\\python39\\python.exe -m pip install --upgrade pip' command.\n"
                    ]
                },
                {
                    "output_type": "stream",
                    "name": "stdout",
                    "text": [
                        "Requirement already satisfied: requests in c:\\users\\leonp\\appdata\\local\\programs\\python\\python39\\lib\\site-packages (2.25.1)\n",
                        "Requirement already satisfied: idna<3,>=2.5 in c:\\users\\leonp\\appdata\\local\\programs\\python\\python39\\lib\\site-packages (from requests) (2.10)\n",
                        "Requirement already satisfied: urllib3<1.27,>=1.21.1 in c:\\users\\leonp\\appdata\\local\\programs\\python\\python39\\lib\\site-packages (from requests) (1.26.4)\n",
                        "Requirement already satisfied: chardet<5,>=3.0.2 in c:\\users\\leonp\\appdata\\local\\programs\\python\\python39\\lib\\site-packages (from requests) (4.0.0)\n",
                        "Requirement already satisfied: certifi>=2017.4.17 in c:\\users\\leonp\\appdata\\local\\programs\\python\\python39\\lib\\site-packages (from requests) (2020.12.5)\n"
                    ]
                },
                {
                    "output_type": "stream",
                    "name": "stderr",
                    "text": [
                        "WARNING: You are using pip version 21.1.3; however, version 21.2.4 is available.\n",
                        "You should consider upgrading via the 'c:\\users\\leonp\\appdata\\local\\programs\\python\\python39\\python.exe -m pip install --upgrade pip' command.\n"
                    ]
                },
                {
                    "output_type": "stream",
                    "name": "stdout",
                    "text": [
                        "Requirement already satisfied: psycopg2-binary in c:\\users\\leonp\\appdata\\local\\programs\\python\\python39\\lib\\site-packages (2.9.1)\n"
                    ]
                },
                {
                    "output_type": "stream",
                    "name": "stderr",
                    "text": [
                        "WARNING: You are using pip version 21.1.3; however, version 21.2.4 is available.\n",
                        "You should consider upgrading via the 'c:\\users\\leonp\\appdata\\local\\programs\\python\\python39\\python.exe -m pip install --upgrade pip' command.\n"
                    ]
                },
                {
                    "output_type": "stream",
                    "name": "stdout",
                    "text": [
                        "Requirement already satisfied: geopy in c:\\users\\leonp\\appdata\\local\\programs\\python\\python39\\lib\\site-packages (2.2.0)\n",
                        "Requirement already satisfied: geographiclib<2,>=1.49 in c:\\users\\leonp\\appdata\\local\\programs\\python\\python39\\lib\\site-packages (from geopy) (1.52)\n"
                    ]
                },
                {
                    "output_type": "stream",
                    "name": "stderr",
                    "text": [
                        "WARNING: You are using pip version 21.1.3; however, version 21.2.4 is available.\n",
                        "You should consider upgrading via the 'c:\\users\\leonp\\appdata\\local\\programs\\python\\python39\\python.exe -m pip install --upgrade pip' command.\n"
                    ]
                }
            ],
            "metadata": {}
        },
        {
            "cell_type": "code",
            "execution_count": 2,
            "source": [
                "import requests\r\n",
                "from bs4 import BeautifulSoup\r\n",
                "import psycopg2\r\n",
                "from IPython.display import clear_output\r\n",
                "import json\r\n",
                "from geopy.geocoders import Nominatim"
            ],
            "outputs": [],
            "metadata": {}
        },
        {
            "cell_type": "code",
            "execution_count": 3,
            "source": [
                "# load data from json\r\n",
                "with open('options.json') as file:\r\n",
                "    options = json.loads(file.read())\r\n",
                "\r\n",
                "detailsTable = options['detailsTable']\r\n",
                "eqOptionsTable = options['eqOptionsTable']\r\n",
                "eqOptions = options['eqOptions']\r\n",
                "mainTable = options['mainTable']\r\n",
                "mainInfoTable = options['mainInfoTable']\r\n",
                "equipmentTable = options['equipmentTable']\r\n",
                "sellerTable = options['sellerTable']\r\n",
                "descriptionTable = options['descriptionTable']\r\n",
                "priceTable = options['priceTable']\r\n",
                "locationTable = options['locationTable']"
            ],
            "outputs": [],
            "metadata": {}
        },
        {
            "cell_type": "code",
            "execution_count": 4,
            "source": [
                "def getOffersUrlsFromPage(url):\r\n",
                "    pageContent = requests.get(url).content\r\n",
                "\r\n",
                "    soup = BeautifulSoup(pageContent, 'html5lib')\r\n",
                "\r\n",
                "    for i in soup.find_all('a', attrs={'class': 'offer-title__link'}):\r\n",
                "        if not i.has_attr('data-test'):\r\n",
                "            yield i['href']"
            ],
            "outputs": [],
            "metadata": {}
        },
        {
            "cell_type": "code",
            "execution_count": 5,
            "source": [
                "def getDetailsFromOffer(soup):\r\n",
                "    result = {}\r\n",
                "    for parameter in soup.find_all('li', attrs={'class': 'offer-params__item'}):\r\n",
                "        key = parameter.find('span').text.replace(' ', '_').replace('(', '').replace(')', '')\r\n",
                "        try:\r\n",
                "            value = parameter.find('div').text.strip().replace(\"'\", '')\r\n",
                "        except AttributeError:\r\n",
                "            continue\r\n",
                "\r\n",
                "        if key in detailsTable:\r\n",
                "            if detailsTable[key] != -1:\r\n",
                "                value = value[:-detailsTable[key]].replace(' ', '').replace(',', '.')\r\n",
                "        else:\r\n",
                "            continue\r\n",
                "        \r\n",
                "        result[key] = value\r\n",
                "    return result"
            ],
            "outputs": [],
            "metadata": {}
        },
        {
            "cell_type": "code",
            "execution_count": 6,
            "source": [
                "def getIDFromOffer(soup):\r\n",
                "    try:\r\n",
                "        offerID = soup.find('span', attrs={'id': 'ad_id'}).text\r\n",
                "    except AttributeError:\r\n",
                "        return None\r\n",
                "    return {'offer_id': offerID}"
            ],
            "outputs": [],
            "metadata": {}
        },
        {
            "cell_type": "code",
            "execution_count": 7,
            "source": [
                "def getSellerFromOffer(soup):\r\n",
                "    sellerName = soup.find('h2', attrs={'class': 'seller-heading__seller-name'}).text.strip().replace(\"'\", \"''\")\r\n",
                "    sellerType = soup.find('section', attrs={'class': 'seller-features'}).find('article', attrs={'class': 'seller-features__feature'}).text.strip().replace(\"'\", \"''\")\r\n",
                "\r\n",
                "    return {'seller_name': sellerName, 'seller_type': sellerType}"
            ],
            "outputs": [],
            "metadata": {}
        },
        {
            "cell_type": "code",
            "execution_count": 8,
            "source": [
                "def getPriceFromOffer(soup):\r\n",
                "    priceCurrency = soup.find('span', attrs={'class': 'offer-price__number'}).text\r\n",
                "    price, currency = map(lambda x: x.strip().replace(',', '.'), priceCurrency.replace(' ', '', 2).split(' ', 1))\r\n",
                "    forNegotiation = soup.find('span', attrs={'class': 'offer-price__details'}).text\r\n",
                "\r\n",
                "    return {'price': price, 'currency': currency, 'offer_type': forNegotiation}"
            ],
            "outputs": [],
            "metadata": {}
        },
        {
            "cell_type": "code",
            "execution_count": 9,
            "source": [
                "def getDescFromOffer(soup):\r\n",
                "    return {'description': soup.find('div', attrs={'class': 'offer-description__description'}).text.replace(\"'\", \"''\")}"
            ],
            "outputs": [],
            "metadata": {}
        },
        {
            "cell_type": "code",
            "execution_count": 10,
            "source": [
                "def getEquipmentFromOffer(soup):\r\n",
                "    result = { i: False for i in eqOptionsTable}\r\n",
                "    try:\r\n",
                "        offerEq = soup.find('div', attrs={'class': 'offer-features'}).text\r\n",
                "    except AttributeError:\r\n",
                "        return result\r\n",
                "\r\n",
                "    for (i, j) in zip(eqOptions, eqOptionsTable):\r\n",
                "        if i in offerEq:\r\n",
                "            result[j] = True\r\n",
                "\r\n",
                "    return result"
            ],
            "outputs": [],
            "metadata": {}
        },
        {
            "cell_type": "code",
            "execution_count": 11,
            "source": [
                "def getLocationFromOffer(soup):\r\n",
                "    locationStr = soup.find('article', attrs={'class': 'seller-card__links__link seller-card__links__link--address'}).text\r\n",
                "\r\n",
                "    geolocator = Nominatim(user_agent='request')\r\n",
                "    location = geolocator.geocode(locationStr)\r\n",
                "\r\n",
                "    if location is None or location.longitude is None or location.latitude is None:\r\n",
                "        return {}\r\n",
                "    else:\r\n",
                "        return {'longitude': location.longitude, 'latitude': location.latitude}"
            ],
            "outputs": [],
            "metadata": {}
        },
        {
            "cell_type": "code",
            "execution_count": 12,
            "source": [
                "def dropTable(cursor):\r\n",
                "    cursor.execute('DROP TABLE IF EXISTS details')\r\n",
                "    cursor.execute('DROP TABLE IF EXISTS equipment')\r\n",
                "    cursor.execute('DROP TABLE IF EXISTS seller')\r\n",
                "    cursor.execute('DROP TABLE IF EXISTS description')\r\n",
                "    cursor.execute('DROP TABLE IF EXISTS price')\r\n",
                "    cursor.execute('DROP TABLE IF EXISTS location')\r\n",
                "    cursor.execute('DROP TABLE IF EXISTS offers')"
            ],
            "outputs": [],
            "metadata": {}
        },
        {
            "cell_type": "code",
            "execution_count": 13,
            "source": [
                "def createTables(cursor):\r\n",
                "    cursor.execute(mainTable)\r\n",
                "    cursor.execute(mainInfoTable)\r\n",
                "    cursor.execute(equipmentTable)\r\n",
                "    cursor.execute(sellerTable)\r\n",
                "    cursor.execute(descriptionTable)\r\n",
                "    cursor.execute(priceTable)\r\n",
                "    cursor.execute(locationTable)"
            ],
            "outputs": [],
            "metadata": {}
        },
        {
            "cell_type": "code",
            "execution_count": 14,
            "source": [
                "def insertData(cursor, tableName, data):\r\n",
                "    insertDataCommand = f'INSERT INTO {tableName} ('\r\n",
                "\r\n",
                "    for col in data:\r\n",
                "        insertDataCommand += f'{col}, '\r\n",
                "    insertDataCommand = insertDataCommand[:-2] + ') VALUES ('\r\n",
                "\r\n",
                "    for value in data.values():\r\n",
                "        insertDataCommand += f\"'{value}', \"\r\n",
                "    insertDataCommand = insertDataCommand[:-2] + ') ON CONFLICT DO NOTHING'\r\n",
                "\r\n",
                "    cursor.execute(insertDataCommand)"
            ],
            "outputs": [],
            "metadata": {}
        },
        {
            "cell_type": "code",
            "execution_count": 15,
            "source": [
                "sql = psycopg2.connect(host='192.168.10.163', port='5433', database='otomoto-1', user='leon', password='biznes')\r\n",
                "cur = sql.cursor()\r\n",
                "\r\n",
                "dropTable(cur)\r\n",
                "\r\n",
                "createTables(cur)\r\n",
                "sql.commit()"
            ],
            "outputs": [],
            "metadata": {}
        },
        {
            "cell_type": "code",
            "execution_count": 16,
            "source": [
                "firstLaunch = True\r\n",
                "columns = []\r\n",
                "\r\n",
                "counter = 0\r\n",
                "for i in range(1, 501):\r\n",
                "    for offerUrl in getOffersUrlsFromPage(f'https://www.otomoto.pl/osobowe/?search%5Border%5D=created_at%3Adesc&page={i}'):\r\n",
                "        print(offerUrl)\r\n",
                "        try:\r\n",
                "            content = requests.get(offerUrl).content\r\n",
                "        except:\r\n",
                "            continue\r\n",
                "        soup = BeautifulSoup(content, 'html5lib')\r\n",
                "\r\n",
                "        if soup.find('div', attrs={'class': 'om-page404 adNotFound'}) is not None:\r\n",
                "            continue\r\n",
                "\r\n",
                "        offerID = getIDFromOffer(soup)\r\n",
                "        if offerID is None:\r\n",
                "            continue\r\n",
                "\r\n",
                "        equip = getEquipmentFromOffer(soup)\r\n",
                "        details = getDetailsFromOffer(soup)\r\n",
                "        seller = getSellerFromOffer(soup)\r\n",
                "        money = getPriceFromOffer(soup)\r\n",
                "        desc = getDescFromOffer(soup)\r\n",
                "        loc = getLocationFromOffer(soup)\r\n",
                "        \r\n",
                "        insertData(cur, 'offers', offerID | {'url': offerUrl})\r\n",
                "        insertData(cur, 'details', offerID | details)\r\n",
                "        insertData(cur, 'equipment', offerID | equip)\r\n",
                "        insertData(cur, 'price', offerID | money)\r\n",
                "        insertData(cur, 'seller', offerID | seller)\r\n",
                "        insertData(cur, 'description', offerID | desc)\r\n",
                "        insertData(cur, 'location', offerID | loc)\r\n",
                "        \r\n",
                "        clear_output(wait=True)\r\n",
                "        print(counter)\r\n",
                "        counter += 1"
            ],
            "outputs": [
                {
                    "output_type": "stream",
                    "name": "stdout",
                    "text": [
                        "4031\n",
                        "https://www.otomoto.pl/oferta/audi-q7-rezerwacja-ID6E0qZZ.html#65e0e474fc\n"
                    ]
                }
            ],
            "metadata": {}
        },
        {
            "cell_type": "code",
            "execution_count": null,
            "source": [
                "sql.commit()\r\n",
                "cur.close()\r\n",
                "sql.close()"
            ],
            "outputs": [],
            "metadata": {}
        }
    ],
    "metadata": {
        "orig_nbformat": 4,
        "kernelspec": {
            "name": "python3",
            "display_name": "Python 3.9.1 64-bit"
        },
        "interpreter": {
            "hash": "19ea111f3602f183f24c0ce4959bdd0a8770fe5e4f88fd396f40526caedff72c"
        },
        "language_info": {
            "name": "python",
            "version": "3.9.1",
            "mimetype": "text/x-python",
            "codemirror_mode": {
                "name": "ipython",
                "version": 3
            },
            "pygments_lexer": "ipython3",
            "nbconvert_exporter": "python",
            "file_extension": ".py"
        }
    },
    "nbformat": 4,
    "nbformat_minor": 2
}