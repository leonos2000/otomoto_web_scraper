{
    "cells": [
        {
            "cell_type": "code",
            "execution_count": 57,
            "source": [
                "!pip install bs4\r\n",
                "!pip install html5lib\r\n",
                "!pip install requests\r\n",
                "!pip install psycopg2-binary"
            ],
            "outputs": [
                {
                    "output_type": "stream",
                    "name": "stdout",
                    "text": [
                        "Requirement already satisfied: bs4 in c:\\users\\leonp\\appdata\\local\\programs\\python\\python39\\lib\\site-packages (0.0.1)\n",
                        "Requirement already satisfied: beautifulsoup4 in c:\\users\\leonp\\appdata\\local\\programs\\python\\python39\\lib\\site-packages (from bs4) (4.9.3)\n",
                        "Requirement already satisfied: soupsieve>1.2 in c:\\users\\leonp\\appdata\\local\\programs\\python\\python39\\lib\\site-packages (from beautifulsoup4->bs4) (2.2.1)\n",
                        "Requirement already satisfied: html5lib in c:\\users\\leonp\\appdata\\local\\programs\\python\\python39\\lib\\site-packages (1.1)\n",
                        "Requirement already satisfied: webencodings in c:\\users\\leonp\\appdata\\local\\programs\\python\\python39\\lib\\site-packages (from html5lib) (0.5.1)\n",
                        "Requirement already satisfied: six>=1.9 in c:\\users\\leonp\\appdata\\local\\programs\\python\\python39\\lib\\site-packages (from html5lib) (1.15.0)\n",
                        "Requirement already satisfied: requests in c:\\users\\leonp\\appdata\\local\\programs\\python\\python39\\lib\\site-packages (2.25.1)\n",
                        "Requirement already satisfied: idna<3,>=2.5 in c:\\users\\leonp\\appdata\\local\\programs\\python\\python39\\lib\\site-packages (from requests) (2.10)\n",
                        "Requirement already satisfied: certifi>=2017.4.17 in c:\\users\\leonp\\appdata\\local\\programs\\python\\python39\\lib\\site-packages (from requests) (2020.12.5)\n",
                        "Requirement already satisfied: urllib3<1.27,>=1.21.1 in c:\\users\\leonp\\appdata\\local\\programs\\python\\python39\\lib\\site-packages (from requests) (1.26.4)\n",
                        "Requirement already satisfied: chardet<5,>=3.0.2 in c:\\users\\leonp\\appdata\\local\\programs\\python\\python39\\lib\\site-packages (from requests) (4.0.0)\n",
                        "Requirement already satisfied: psycopg2-binary in c:\\users\\leonp\\appdata\\local\\programs\\python\\python39\\lib\\site-packages (2.9.1)\n"
                    ]
                }
            ],
            "metadata": {}
        },
        {
            "cell_type": "code",
            "execution_count": 58,
            "source": [
                "\r\n",
                "import requests\r\n",
                "from bs4 import BeautifulSoup\r\n",
                "import psycopg2\r\n",
                "import time\r\n",
                "import calendar\r\n",
                "from IPython.display import clear_output\r\n"
            ],
            "outputs": [],
            "metadata": {}
        },
        {
            "cell_type": "code",
            "execution_count": 59,
            "source": [
                "def getOffersUrlsFromPage(url):\r\n",
                "    pageContent = requests.get(url).content\r\n",
                "\r\n",
                "    soup = BeautifulSoup(pageContent, 'html5lib')\r\n",
                "\r\n",
                "    return [x['href'] for x in soup.find_all('a', attrs={'class': 'offer-title__link'}) if not 'data-test' in x]"
            ],
            "outputs": [],
            "metadata": {}
        },
        {
            "cell_type": "code",
            "execution_count": 60,
            "source": [
                "def getDetailsFromOffer(soup):\r\n",
                "    resoult = {}\r\n",
                "    for parameter in soup.find_all('li', attrs={'class': 'offer-params__item'}):\r\n",
                "        key = parameter.find('span').text\r\n",
                "        try:\r\n",
                "            value = parameter.find('a').text\r\n",
                "        except AttributeError:\r\n",
                "            try:\r\n",
                "                value = parameter.find('div').text\r\n",
                "            except AttributeError:\r\n",
                "                continue\r\n",
                "\r\n",
                "        resoult[key] = value.strip().replace(\"'\", '')\r\n",
                "\r\n",
                "    return resoult"
            ],
            "outputs": [],
            "metadata": {}
        },
        {
            "cell_type": "code",
            "execution_count": null,
            "source": [
                "eqOptions = ['ABS',\r\n",
                "             'CD',\r\n",
                "             'Centralny zamek',\r\n",
                "             'Elektryczne szyby przednie',\r\n",
                "             'Elektrycznie ustawiane lusterka',\r\n",
                "             'Immobilizer',\r\n",
                "             'Poduszka powietrzna kierowcy',\r\n",
                "             'Poduszka powietrzna pasażera',\r\n",
                "             'Radio fabryczne',\r\n",
                "             'Wspomaganie kierownicy',\r\n",
                "             'Alarm',\r\n",
                "             'Alufelgi',\r\n",
                "             'ASR (kontrola trakcji)',\r\n",
                "             'Asystent parkowania',\r\n",
                "             'Asystent pasa ruchu',\r\n",
                "             'Bluetooth',\r\n",
                "             'Czujnik deszczu',\r\n",
                "             'Czujnik martwego pola',\r\n",
                "             'Czujnik zmierzchu',\r\n",
                "             'Czujniki parkowania przednie',\r\n",
                "             'Czujniki parkowania tylne',\r\n",
                "             'Dach panoramiczny',\r\n",
                "             'Elektrochromatyczne lusterka boczne',\r\n",
                "             'Elektrochromatyczne lusterko wsteczne',\r\n",
                "             'Elektryczne szyby tylne',\r\n",
                "             'Elektrycznie ustawiane fotele',\r\n",
                "             'ESP (stabilizacja toru jazdy)',\r\n",
                "             'Gniazdo AUX',\r\n",
                "             'Gniazdo SD',\r\n",
                "             'Gniazdo USB',\r\n",
                "             'Hak',\r\n",
                "             'HUD (wyświetlacz przezierny)',\r\n",
                "             'Isofix',\r\n",
                "             'Kamera cofania',\r\n",
                "             'Klimatyzacja automatyczna',\r\n",
                "             'Klimatyzacja czterostrefowa',\r\n",
                "             'Klimatyzacja dwustrefowa',\r\n",
                "             'Klimatyzacja manualna',\r\n",
                "             'Komputer pokładowy',\r\n",
                "             'Kurtyny powietrzne',\r\n",
                "             'Łopatki zmiany biegów',\r\n",
                "             'MP3',\r\n",
                "             'Nawigacja GPS',\r\n",
                "             'Odtwarzacz DVD',\r\n",
                "             'Ogranicznik prędkości',\r\n",
                "             'Ogrzewanie postojowe',\r\n",
                "             'Podgrzewana przednia szyba',\r\n",
                "             'Podgrzewane lusterka boczne',\r\n",
                "             'Podgrzewane przednie siedzenia',\r\n",
                "             'Podgrzewane tylne siedzenia',\r\n",
                "             'Poduszka powietrzna chroniąca kolana',\r\n",
                "             'Poduszki boczne przednie',\r\n",
                "             'Poduszki boczne tylne',\r\n",
                "             'Przyciemniane szyby',\r\n",
                "             'Radio niefabryczne',\r\n",
                "             'Regulowane zawieszenie',\r\n",
                "             'Relingi dachowe',\r\n",
                "             'System Start-Stop',\r\n",
                "             'Szyberdach',\r\n",
                "             'Światła do jazdy dziennej',\r\n",
                "             'Światła LED',\r\n",
                "             'Światła przeciwmgielne',\r\n",
                "             'Światła Xenonowe',\r\n",
                "             'Tapicerka skórzana',\r\n",
                "             'Tapicerka welurowa',\r\n",
                "             'Tempomat',\r\n",
                "             'Tempomat aktywny',\r\n",
                "             'Tuner TV',\r\n",
                "             'Wielofunkcyjna kierownica',\r\n",
                "             'Zmieniarka CD']"
            ],
            "outputs": [],
            "metadata": {}
        },
        {
            "cell_type": "code",
            "execution_count": null,
            "source": [
                "def getIDFromOffer(soup):\r\n",
                "    return soup.find('span', attrs={'id': 'ad_id'}).text"
            ],
            "outputs": [],
            "metadata": {}
        },
        {
            "cell_type": "code",
            "execution_count": null,
            "source": [
                "def getEquipment(soup):\r\n",
                "    eq = soup.find('div', attrs={'class': 'offer-features__row'}).text\r\n",
                "\r\n",
                "    "
            ],
            "outputs": [],
            "metadata": {}
        },
        {
            "cell_type": "code",
            "execution_count": 67,
            "source": [
                "sql = psycopg2.connect(host='192.168.10.163', port='5433', database='otomoto-1', user='leon', password='biznes')\r\n",
                "cur = sql.cursor()"
            ],
            "outputs": [],
            "metadata": {}
        },
        {
            "cell_type": "code",
            "execution_count": 68,
            "source": [
                "def createTables(cursor):\r\n",
                "    mainTable = '''CREATE TEMP TABLE offers (\r\n",
                "        offer_id INT,\r\n",
                "        url TEXT NOT NULL,\r\n",
                "        PRIMARY KEY(offer_id)\r\n",
                "        )'''\r\n",
                "    mainInfoTable = '''CREATE TEMP TABLE info (\r\n",
                "        offer_id INT NOT NULL,\r\n",
                "        Marka TEXT NOT NULL,\r\n",
                "        Model TEXT NOT NULL,\r\n",
                "        Rodzaj paliwa TEXT NOT NULL,\r\n",
                "        Moc INT NOT NULL,\r\n",
                "        Pojemność skokowa INT NOT NULL,\r\n",
                "        Liczba drzwi INT NOT NULL,\r\n",
                "        Skrzynia biegów TEXT NOT NULL,\r\n",
                "        Wersja TEXT NOT NULL,\r\n",
                "        Generacja TEXT NOT NULL,\r\n",
                "        Segment TEXT NOT NULL,\r\n",
                "        Kolor TEXT NOT NULL,\r\n",
                "        Przebieg INT NOT NULL,\r\n",
                "        CONSTRAINT fk_info\r\n",
                "            FOREIGN KEY(offer_id)\r\n",
                "                REFERENCES offers(offer_id)\r\n",
                "        )'''\r\n",
                "    detailsTable = '''CREATE TEMP TABLE details (\r\n",
                "        offer_id INT,\r\n",
                "        CONSTRAINT fk_details\r\n",
                "            FOREIGN KEY(offer_id)\r\n",
                "                REFERENCES offers(offer_id)\r\n",
                "        )'''\r\n",
                "    equipmentTable = '''CREATE TEMP TABLE equipment (\r\n",
                "        offer_id INT,\r\n",
                "        CONSTRAINT fk_eq\r\n",
                "            FOREIGN KEY(offer_id)\r\n",
                "                REFERENCES offers(offer_id)\r\n",
                "        )'''\r\n",
                "    sellerTable = '''CREATE TEMP TABLE seller (\r\n",
                "        seller_id INT GENERATED ALWAYS AS IDENTITY,\r\n",
                "        offer_id INT,\r\n",
                "        Lokalizacja TEXT,\r\n",
                "        Sprzedawca_od INT,\r\n",
                "        CONSTRAINT fk_seller\r\n",
                "            FOREIGH KEY(offer_id)\r\n",
                "                REFERENCES offers(offer_id)\r\n",
                "        )'''\r\n",
                "    descriptionTable = '''CREATE TEMP TABLE desc (\r\n",
                "        offer_id INT,\r\n",
                "        CONSTRAINT fk_desc\r\n",
                "            FOREIGN KEY(offer_id)\r\n",
                "                REFERENCES offers(offer_id)\r\n",
                "        )'''\r\n",
                "    priceTable =  '''CREATE TEMP TABLE price (\r\n",
                "        offer_id INT,\r\n",
                "        price INT NOT NULL,\r\n",
                "        Do_negocjacji BOOLEAN,\r\n",
                "        Faktura BOOLEAN,\r\n",
                "        CONSTRAINT fk_price\r\n",
                "            FOREIGN KEY(offer_id)\r\n",
                "                REFERENCES offers(offer_id)\r\n",
                "        )'''\r\n",
                "\r\n",
                "    cursor.execute(mainTable)\r\n",
                "    cursor.execute(mainInfoTable)\r\n",
                "    cursor.execute(detailsTable)\r\n",
                "    cursor.execute(equipmentTable)\r\n",
                "    cursor.execute(sellerTable)\r\n",
                "    cursor.execute(descriptionTable)\r\n",
                "    cursor.execute(priceTable)"
            ],
            "outputs": [],
            "metadata": {}
        },
        {
            "cell_type": "code",
            "execution_count": 69,
            "source": [
                "def keysAsList(dict):\r\n",
                "    return [x for x in dict]"
            ],
            "outputs": [],
            "metadata": {}
        },
        {
            "cell_type": "code",
            "execution_count": 70,
            "source": [
                "def addColumn(cursor, tableName, columnNames):\r\n",
                "    alterTableCommand = f'ALTER TABLE {tableName} '\r\n",
                "\r\n",
                "    for col in columnNames:\r\n",
                "        alterTableCommand += f'ADD COLUMN \"{col}\" TEXT, '\r\n",
                "    alterTableCommand = alterTableCommand[:-2]\r\n",
                "\r\n",
                "    cursor.execute(alterTableCommand)"
            ],
            "outputs": [],
            "metadata": {}
        },
        {
            "cell_type": "code",
            "execution_count": 71,
            "source": [
                "def insertData(cursor, tableName, data):\r\n",
                "    insertDataCommand = f'INSERT INTO {tableName} ('\r\n",
                "\r\n",
                "    for col in data:\r\n",
                "        insertDataCommand += f'\"{col}\", '\r\n",
                "    insertDataCommand = insertDataCommand[:-2] + ') VALUES ('\r\n",
                "\r\n",
                "    for value in data.values():\r\n",
                "        insertDataCommand += f'\\'{value}\\', '\r\n",
                "    insertDataCommand = insertDataCommand[:-2] + ')'\r\n",
                "\r\n",
                "    cursor.execute(insertDataCommand)"
            ],
            "outputs": [],
            "metadata": {}
        },
        {
            "cell_type": "code",
            "execution_count": 72,
            "source": [
                "firstLaunch = True\r\n",
                "columns = []\r\n",
                "\r\n",
                "createTables(cur)\r\n",
                "\r\n",
                "counter = 0\r\n",
                "for i in range(1, 2):\r\n",
                "    for offerUrl in getOffersUrlsFromPage(f'https://www.otomoto.pl/osobowe/?search%5Border%5D=created_at%3Adesc&page={i}'):\r\n",
                "        \r\n",
                "        try:\r\n",
                "            content = requests.get(offerUrl).content\r\n",
                "        except:\r\n",
                "            pass\r\n",
                "        soup = BeautifulSoup(content, 'html5lib')\r\n",
                "\r\n",
                "        details = getDetailsFromOffer(soup)\r\n",
                "\r\n",
                "        if len(data) == 0:\r\n",
                "            continue\r\n",
                "\r\n",
                "        if firstLaunch:\r\n",
                "            columns = keysAsList(data)\r\n",
                "            createTable(cur, tableName, columns)\r\n",
                "            firstLaunch = False\r\n",
                "        \r\n",
                "        addtionalCol = []\r\n",
                "        for key in data:\r\n",
                "            if not key in columns:\r\n",
                "                addtionalCol.append(key)\r\n",
                "        if len(addtionalCol) != 0:\r\n",
                "            addColumn(cur, tableName, addtionalCol)\r\n",
                "            columns += addtionalCol\r\n",
                "\r\n",
                "        insertData(cur, tableName, data)\r\n",
                "        \r\n",
                "        clear_output(wait=True)\r\n",
                "        print(counter)\r\n",
                "        counter += 1\r\n",
                "    \r\n",
                "\r\n"
            ],
            "outputs": [
                {
                    "output_type": "stream",
                    "name": "stdout",
                    "text": [
                        "35\n"
                    ]
                }
            ],
            "metadata": {}
        },
        {
            "cell_type": "code",
            "execution_count": null,
            "source": [
                "cur.close()\r\n",
                "sql.commit()\r\n",
                "\r\n",
                "input()\r\n",
                "\r\n",
                "sql.close()"
            ],
            "outputs": [],
            "metadata": {}
        }
    ],
    "metadata": {
        "orig_nbformat": 4,
        "kernelspec": {
            "name": "python3",
            "display_name": "Python 3.9.1 64-bit"
        },
        "interpreter": {
            "hash": "19ea111f3602f183f24c0ce4959bdd0a8770fe5e4f88fd396f40526caedff72c"
        },
        "language_info": {
            "name": "python",
            "version": "3.9.1",
            "mimetype": "text/x-python",
            "codemirror_mode": {
                "name": "ipython",
                "version": 3
            },
            "pygments_lexer": "ipython3",
            "nbconvert_exporter": "python",
            "file_extension": ".py"
        }
    },
    "nbformat": 4,
    "nbformat_minor": 2
}